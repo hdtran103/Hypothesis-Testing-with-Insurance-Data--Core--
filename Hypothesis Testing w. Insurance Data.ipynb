{
 "cells": [
  {
   "cell_type": "markdown",
   "id": "0cac5f79",
   "metadata": {},
   "source": [
    "\n",
    "Assignment\n",
    "\n",
    "We have been asked to use our hypothesis testing skills to answer the following questions:\n",
    "\n",
    "    Q1. Do smokers have higher insurance charges than non-smokers?\n",
    "    Q2. Are men more likely to smoke than women?\n",
    "    Q3. Do different regions have different charges, on average?\n",
    "\n",
    "For each question:\n",
    "\n",
    "    State your Null Hypothesis and Alternative Hypothesis\n",
    "    Select the correct test according to the data type and number of samples\n",
    "    Test the assumptions of your selected test.\n",
    "    Execute the selected test, or the alternative test (if you do not meet the assumptions)\n",
    "    Interpret your p-value and reject or fail to reject your null hypothesis\n",
    "    Show a supporting visualization that helps display the result\n",
    "\n"
   ]
  },
  {
   "cell_type": "markdown",
   "id": "fb951b75",
   "metadata": {},
   "source": [
    "## Import Libraries"
   ]
  },
  {
   "cell_type": "code",
   "execution_count": 1,
   "id": "bd148c4f",
   "metadata": {},
   "outputs": [
    {
     "data": {
      "text/plain": [
       "'1.9.3'"
      ]
     },
     "execution_count": 1,
     "metadata": {},
     "output_type": "execute_result"
    }
   ],
   "source": [
    "import json\n",
    "import pandas as pd\n",
    "import numpy as np\n",
    "import matplotlib.pyplot as plt\n",
    "import seaborn as sns\n",
    "from scipy import stats\n",
    "import scipy\n",
    "scipy.__version__"
   ]
  },
  {
   "cell_type": "markdown",
   "id": "7fdf236c",
   "metadata": {},
   "source": [
    "## Import the Data"
   ]
  },
  {
   "cell_type": "code",
   "execution_count": 2,
   "id": "1fa6765f",
   "metadata": {},
   "outputs": [
    {
     "data": {
      "text/html": [
       "<div>\n",
       "<style scoped>\n",
       "    .dataframe tbody tr th:only-of-type {\n",
       "        vertical-align: middle;\n",
       "    }\n",
       "\n",
       "    .dataframe tbody tr th {\n",
       "        vertical-align: top;\n",
       "    }\n",
       "\n",
       "    .dataframe thead th {\n",
       "        text-align: right;\n",
       "    }\n",
       "</style>\n",
       "<table border=\"1\" class=\"dataframe\">\n",
       "  <thead>\n",
       "    <tr style=\"text-align: right;\">\n",
       "      <th></th>\n",
       "      <th>age</th>\n",
       "      <th>sex</th>\n",
       "      <th>bmi</th>\n",
       "      <th>children</th>\n",
       "      <th>smoker</th>\n",
       "      <th>region</th>\n",
       "      <th>charges</th>\n",
       "    </tr>\n",
       "  </thead>\n",
       "  <tbody>\n",
       "    <tr>\n",
       "      <th>0</th>\n",
       "      <td>19</td>\n",
       "      <td>female</td>\n",
       "      <td>27.900</td>\n",
       "      <td>0</td>\n",
       "      <td>yes</td>\n",
       "      <td>southwest</td>\n",
       "      <td>16884.92400</td>\n",
       "    </tr>\n",
       "    <tr>\n",
       "      <th>1</th>\n",
       "      <td>18</td>\n",
       "      <td>male</td>\n",
       "      <td>33.770</td>\n",
       "      <td>1</td>\n",
       "      <td>no</td>\n",
       "      <td>southeast</td>\n",
       "      <td>1725.55230</td>\n",
       "    </tr>\n",
       "    <tr>\n",
       "      <th>2</th>\n",
       "      <td>28</td>\n",
       "      <td>male</td>\n",
       "      <td>33.000</td>\n",
       "      <td>3</td>\n",
       "      <td>no</td>\n",
       "      <td>southeast</td>\n",
       "      <td>4449.46200</td>\n",
       "    </tr>\n",
       "    <tr>\n",
       "      <th>3</th>\n",
       "      <td>33</td>\n",
       "      <td>male</td>\n",
       "      <td>22.705</td>\n",
       "      <td>0</td>\n",
       "      <td>no</td>\n",
       "      <td>northwest</td>\n",
       "      <td>21984.47061</td>\n",
       "    </tr>\n",
       "    <tr>\n",
       "      <th>4</th>\n",
       "      <td>32</td>\n",
       "      <td>male</td>\n",
       "      <td>28.880</td>\n",
       "      <td>0</td>\n",
       "      <td>no</td>\n",
       "      <td>northwest</td>\n",
       "      <td>3866.85520</td>\n",
       "    </tr>\n",
       "  </tbody>\n",
       "</table>\n",
       "</div>"
      ],
      "text/plain": [
       "   age     sex     bmi  children smoker     region      charges\n",
       "0   19  female  27.900         0    yes  southwest  16884.92400\n",
       "1   18    male  33.770         1     no  southeast   1725.55230\n",
       "2   28    male  33.000         3     no  southeast   4449.46200\n",
       "3   33    male  22.705         0     no  northwest  21984.47061\n",
       "4   32    male  28.880         0     no  northwest   3866.85520"
      ]
     },
     "execution_count": 2,
     "metadata": {},
     "output_type": "execute_result"
    }
   ],
   "source": [
    "df = pd.read_csv('Data/US Health Insurance.csv')\n",
    "df.head()"
   ]
  },
  {
   "cell_type": "code",
   "execution_count": 3,
   "id": "b7eca111",
   "metadata": {},
   "outputs": [
    {
     "name": "stdout",
     "output_type": "stream",
     "text": [
      "<class 'pandas.core.frame.DataFrame'>\n",
      "RangeIndex: 1338 entries, 0 to 1337\n",
      "Data columns (total 7 columns):\n",
      " #   Column    Non-Null Count  Dtype  \n",
      "---  ------    --------------  -----  \n",
      " 0   age       1338 non-null   int64  \n",
      " 1   sex       1338 non-null   object \n",
      " 2   bmi       1338 non-null   float64\n",
      " 3   children  1338 non-null   int64  \n",
      " 4   smoker    1338 non-null   object \n",
      " 5   region    1338 non-null   object \n",
      " 6   charges   1338 non-null   float64\n",
      "dtypes: float64(2), int64(2), object(3)\n",
      "memory usage: 73.3+ KB\n"
     ]
    }
   ],
   "source": [
    "df.info()"
   ]
  },
  {
   "cell_type": "markdown",
   "id": "81754644",
   "metadata": {},
   "source": [
    "# Q1. Do smokers have higher insurance charges than non-smokers?"
   ]
  },
  {
   "cell_type": "markdown",
   "id": "c863ed00",
   "metadata": {},
   "source": [
    "\n",
    "## State the Hypothesis & Null Hypothesis\n",
    "\n",
    "    Null Hypothesis: There is no difference between the insurance charges for smokers vs. non-smokers.\n",
    "\n",
    "    Alternative Hypothesis: There is a difference between insurance charges for smokers vs. non-smokers.\n",
    "\n"
   ]
  },
  {
   "cell_type": "markdown",
   "id": "34ce7f02",
   "metadata": {},
   "source": [
    "\n",
    "## Determine the correct test to perform\n",
    "\n",
    "    Numeric Data\n",
    "    Two samples/groups\n",
    "    We want to run a 2-sample T-test\n",
    "\n"
   ]
  },
  {
   "cell_type": "markdown",
   "id": "9f0df5ce",
   "metadata": {},
   "source": [
    "## Visualize and separate data for hypothesis\n",
    "\n",
    "    What column is our target? charges\n",
    "    What column determines our group? smoker\n",
    "\n"
   ]
  },
  {
   "cell_type": "code",
   "execution_count": 4,
   "id": "b423ea76",
   "metadata": {},
   "outputs": [
    {
     "data": {
      "text/plain": [
       "count     1338.000000\n",
       "mean     13270.422265\n",
       "std      12110.011237\n",
       "min       1121.873900\n",
       "25%       4740.287150\n",
       "50%       9382.033000\n",
       "75%      16639.912515\n",
       "max      63770.428010\n",
       "Name: charges, dtype: float64"
      ]
     },
     "execution_count": 4,
     "metadata": {},
     "output_type": "execute_result"
    }
   ],
   "source": [
    "## check the col that contains the meaasurement\n",
    "df['charges'].describe()"
   ]
  },
  {
   "cell_type": "code",
   "execution_count": 5,
   "id": "e75be736",
   "metadata": {},
   "outputs": [
    {
     "data": {
      "text/plain": [
       "0       yes\n",
       "1        no\n",
       "2        no\n",
       "3        no\n",
       "4        no\n",
       "       ... \n",
       "1333     no\n",
       "1334     no\n",
       "1335     no\n",
       "1336     no\n",
       "1337    yes\n",
       "Name: smoker, Length: 1338, dtype: object"
      ]
     },
     "execution_count": 5,
     "metadata": {},
     "output_type": "execute_result"
    }
   ],
   "source": [
    "## check the col that contains info on smoker\n",
    "df['smoker']"
   ]
  },
  {
   "cell_type": "code",
   "execution_count": 6,
   "id": "4a97a9bd",
   "metadata": {},
   "outputs": [
    {
     "data": {
      "text/plain": [
       "False    1064\n",
       "True      274\n",
       "Name: yes_smoker, dtype: int64"
      ]
     },
     "execution_count": 6,
     "metadata": {},
     "output_type": "execute_result"
    }
   ],
   "source": [
    "## create a column that easily separates our groups\n",
    "df['yes_smoker'] = df['smoker'].str.contains('yes')\n",
    "df['yes_smoker'].value_counts()"
   ]
  },
  {
   "cell_type": "code",
   "execution_count": 7,
   "id": "d6020c42",
   "metadata": {},
   "outputs": [
    {
     "data": {
      "text/html": [
       "<div>\n",
       "<style scoped>\n",
       "    .dataframe tbody tr th:only-of-type {\n",
       "        vertical-align: middle;\n",
       "    }\n",
       "\n",
       "    .dataframe tbody tr th {\n",
       "        vertical-align: top;\n",
       "    }\n",
       "\n",
       "    .dataframe thead th {\n",
       "        text-align: right;\n",
       "    }\n",
       "</style>\n",
       "<table border=\"1\" class=\"dataframe\">\n",
       "  <thead>\n",
       "    <tr style=\"text-align: right;\">\n",
       "      <th></th>\n",
       "      <th>yes_smoker</th>\n",
       "      <th>charges</th>\n",
       "    </tr>\n",
       "  </thead>\n",
       "  <tbody>\n",
       "    <tr>\n",
       "      <th>0</th>\n",
       "      <td>True</td>\n",
       "      <td>16884.92400</td>\n",
       "    </tr>\n",
       "    <tr>\n",
       "      <th>1</th>\n",
       "      <td>False</td>\n",
       "      <td>1725.55230</td>\n",
       "    </tr>\n",
       "    <tr>\n",
       "      <th>2</th>\n",
       "      <td>False</td>\n",
       "      <td>4449.46200</td>\n",
       "    </tr>\n",
       "    <tr>\n",
       "      <th>3</th>\n",
       "      <td>False</td>\n",
       "      <td>21984.47061</td>\n",
       "    </tr>\n",
       "    <tr>\n",
       "      <th>4</th>\n",
       "      <td>False</td>\n",
       "      <td>3866.85520</td>\n",
       "    </tr>\n",
       "    <tr>\n",
       "      <th>...</th>\n",
       "      <td>...</td>\n",
       "      <td>...</td>\n",
       "    </tr>\n",
       "    <tr>\n",
       "      <th>1333</th>\n",
       "      <td>False</td>\n",
       "      <td>10600.54830</td>\n",
       "    </tr>\n",
       "    <tr>\n",
       "      <th>1334</th>\n",
       "      <td>False</td>\n",
       "      <td>2205.98080</td>\n",
       "    </tr>\n",
       "    <tr>\n",
       "      <th>1335</th>\n",
       "      <td>False</td>\n",
       "      <td>1629.83350</td>\n",
       "    </tr>\n",
       "    <tr>\n",
       "      <th>1336</th>\n",
       "      <td>False</td>\n",
       "      <td>2007.94500</td>\n",
       "    </tr>\n",
       "    <tr>\n",
       "      <th>1337</th>\n",
       "      <td>True</td>\n",
       "      <td>29141.36030</td>\n",
       "    </tr>\n",
       "  </tbody>\n",
       "</table>\n",
       "<p>1338 rows × 2 columns</p>\n",
       "</div>"
      ],
      "text/plain": [
       "      yes_smoker      charges\n",
       "0           True  16884.92400\n",
       "1          False   1725.55230\n",
       "2          False   4449.46200\n",
       "3          False  21984.47061\n",
       "4          False   3866.85520\n",
       "...          ...          ...\n",
       "1333       False  10600.54830\n",
       "1334       False   2205.98080\n",
       "1335       False   1629.83350\n",
       "1336       False   2007.94500\n",
       "1337        True  29141.36030\n",
       "\n",
       "[1338 rows x 2 columns]"
      ]
     },
     "execution_count": 7,
     "metadata": {},
     "output_type": "execute_result"
    }
   ],
   "source": [
    "## save list of columns needed for each group\n",
    "needed_cols = ['yes_smoker', 'charges']\n",
    "df[needed_cols]"
   ]
  },
  {
   "cell_type": "code",
   "execution_count": 8,
   "id": "002e8d48",
   "metadata": {},
   "outputs": [
    {
     "data": {
      "text/html": [
       "<div>\n",
       "<style scoped>\n",
       "    .dataframe tbody tr th:only-of-type {\n",
       "        vertical-align: middle;\n",
       "    }\n",
       "\n",
       "    .dataframe tbody tr th {\n",
       "        vertical-align: top;\n",
       "    }\n",
       "\n",
       "    .dataframe thead th {\n",
       "        text-align: right;\n",
       "    }\n",
       "</style>\n",
       "<table border=\"1\" class=\"dataframe\">\n",
       "  <thead>\n",
       "    <tr style=\"text-align: right;\">\n",
       "      <th></th>\n",
       "      <th>yes_smoker</th>\n",
       "      <th>charges</th>\n",
       "    </tr>\n",
       "  </thead>\n",
       "  <tbody>\n",
       "    <tr>\n",
       "      <th>1</th>\n",
       "      <td>False</td>\n",
       "      <td>1725.55230</td>\n",
       "    </tr>\n",
       "    <tr>\n",
       "      <th>2</th>\n",
       "      <td>False</td>\n",
       "      <td>4449.46200</td>\n",
       "    </tr>\n",
       "    <tr>\n",
       "      <th>3</th>\n",
       "      <td>False</td>\n",
       "      <td>21984.47061</td>\n",
       "    </tr>\n",
       "    <tr>\n",
       "      <th>4</th>\n",
       "      <td>False</td>\n",
       "      <td>3866.85520</td>\n",
       "    </tr>\n",
       "    <tr>\n",
       "      <th>5</th>\n",
       "      <td>False</td>\n",
       "      <td>3756.62160</td>\n",
       "    </tr>\n",
       "    <tr>\n",
       "      <th>...</th>\n",
       "      <td>...</td>\n",
       "      <td>...</td>\n",
       "    </tr>\n",
       "    <tr>\n",
       "      <th>1332</th>\n",
       "      <td>False</td>\n",
       "      <td>11411.68500</td>\n",
       "    </tr>\n",
       "    <tr>\n",
       "      <th>1333</th>\n",
       "      <td>False</td>\n",
       "      <td>10600.54830</td>\n",
       "    </tr>\n",
       "    <tr>\n",
       "      <th>1334</th>\n",
       "      <td>False</td>\n",
       "      <td>2205.98080</td>\n",
       "    </tr>\n",
       "    <tr>\n",
       "      <th>1335</th>\n",
       "      <td>False</td>\n",
       "      <td>1629.83350</td>\n",
       "    </tr>\n",
       "    <tr>\n",
       "      <th>1336</th>\n",
       "      <td>False</td>\n",
       "      <td>2007.94500</td>\n",
       "    </tr>\n",
       "  </tbody>\n",
       "</table>\n",
       "<p>1064 rows × 2 columns</p>\n",
       "</div>"
      ],
      "text/plain": [
       "      yes_smoker      charges\n",
       "1          False   1725.55230\n",
       "2          False   4449.46200\n",
       "3          False  21984.47061\n",
       "4          False   3866.85520\n",
       "5          False   3756.62160\n",
       "...          ...          ...\n",
       "1332       False  11411.68500\n",
       "1333       False  10600.54830\n",
       "1334       False   2205.98080\n",
       "1335       False   1629.83350\n",
       "1336       False   2007.94500\n",
       "\n",
       "[1064 rows x 2 columns]"
      ]
     },
     "execution_count": 8,
     "metadata": {},
     "output_type": "execute_result"
    }
   ],
   "source": [
    "## save non_smokers in separate variable\n",
    "non_smoker = df.loc[ df['yes_smoker']==False, needed_cols]\n",
    "non_smoker"
   ]
  },
  {
   "cell_type": "code",
   "execution_count": 9,
   "id": "0aaa7c40",
   "metadata": {},
   "outputs": [
    {
     "data": {
      "text/html": [
       "<div>\n",
       "<style scoped>\n",
       "    .dataframe tbody tr th:only-of-type {\n",
       "        vertical-align: middle;\n",
       "    }\n",
       "\n",
       "    .dataframe tbody tr th {\n",
       "        vertical-align: top;\n",
       "    }\n",
       "\n",
       "    .dataframe thead th {\n",
       "        text-align: right;\n",
       "    }\n",
       "</style>\n",
       "<table border=\"1\" class=\"dataframe\">\n",
       "  <thead>\n",
       "    <tr style=\"text-align: right;\">\n",
       "      <th></th>\n",
       "      <th>yes_smoker</th>\n",
       "      <th>charges</th>\n",
       "    </tr>\n",
       "  </thead>\n",
       "  <tbody>\n",
       "    <tr>\n",
       "      <th>0</th>\n",
       "      <td>True</td>\n",
       "      <td>16884.92400</td>\n",
       "    </tr>\n",
       "    <tr>\n",
       "      <th>11</th>\n",
       "      <td>True</td>\n",
       "      <td>27808.72510</td>\n",
       "    </tr>\n",
       "    <tr>\n",
       "      <th>14</th>\n",
       "      <td>True</td>\n",
       "      <td>39611.75770</td>\n",
       "    </tr>\n",
       "    <tr>\n",
       "      <th>19</th>\n",
       "      <td>True</td>\n",
       "      <td>36837.46700</td>\n",
       "    </tr>\n",
       "    <tr>\n",
       "      <th>23</th>\n",
       "      <td>True</td>\n",
       "      <td>37701.87680</td>\n",
       "    </tr>\n",
       "    <tr>\n",
       "      <th>...</th>\n",
       "      <td>...</td>\n",
       "      <td>...</td>\n",
       "    </tr>\n",
       "    <tr>\n",
       "      <th>1313</th>\n",
       "      <td>True</td>\n",
       "      <td>36397.57600</td>\n",
       "    </tr>\n",
       "    <tr>\n",
       "      <th>1314</th>\n",
       "      <td>True</td>\n",
       "      <td>18765.87545</td>\n",
       "    </tr>\n",
       "    <tr>\n",
       "      <th>1321</th>\n",
       "      <td>True</td>\n",
       "      <td>28101.33305</td>\n",
       "    </tr>\n",
       "    <tr>\n",
       "      <th>1323</th>\n",
       "      <td>True</td>\n",
       "      <td>43896.37630</td>\n",
       "    </tr>\n",
       "    <tr>\n",
       "      <th>1337</th>\n",
       "      <td>True</td>\n",
       "      <td>29141.36030</td>\n",
       "    </tr>\n",
       "  </tbody>\n",
       "</table>\n",
       "<p>274 rows × 2 columns</p>\n",
       "</div>"
      ],
      "text/plain": [
       "      yes_smoker      charges\n",
       "0           True  16884.92400\n",
       "11          True  27808.72510\n",
       "14          True  39611.75770\n",
       "19          True  36837.46700\n",
       "23          True  37701.87680\n",
       "...          ...          ...\n",
       "1313        True  36397.57600\n",
       "1314        True  18765.87545\n",
       "1321        True  28101.33305\n",
       "1323        True  43896.37630\n",
       "1337        True  29141.36030\n",
       "\n",
       "[274 rows x 2 columns]"
      ]
     },
     "execution_count": 9,
     "metadata": {},
     "output_type": "execute_result"
    }
   ],
   "source": [
    "## save yes_smoker in separate variable\n",
    "smokers = df.loc[ df['yes_smoker']==True, needed_cols]\n",
    "smokers"
   ]
  },
  {
   "cell_type": "code",
   "execution_count": 10,
   "id": "3a1c4f3c",
   "metadata": {},
   "outputs": [
    {
     "data": {
      "text/html": [
       "<div>\n",
       "<style scoped>\n",
       "    .dataframe tbody tr th:only-of-type {\n",
       "        vertical-align: middle;\n",
       "    }\n",
       "\n",
       "    .dataframe tbody tr th {\n",
       "        vertical-align: top;\n",
       "    }\n",
       "\n",
       "    .dataframe thead th {\n",
       "        text-align: right;\n",
       "    }\n",
       "</style>\n",
       "<table border=\"1\" class=\"dataframe\">\n",
       "  <thead>\n",
       "    <tr style=\"text-align: right;\">\n",
       "      <th></th>\n",
       "      <th>yes_smoker</th>\n",
       "      <th>charges</th>\n",
       "    </tr>\n",
       "  </thead>\n",
       "  <tbody>\n",
       "    <tr>\n",
       "      <th>1</th>\n",
       "      <td>False</td>\n",
       "      <td>1725.55230</td>\n",
       "    </tr>\n",
       "    <tr>\n",
       "      <th>2</th>\n",
       "      <td>False</td>\n",
       "      <td>4449.46200</td>\n",
       "    </tr>\n",
       "    <tr>\n",
       "      <th>3</th>\n",
       "      <td>False</td>\n",
       "      <td>21984.47061</td>\n",
       "    </tr>\n",
       "    <tr>\n",
       "      <th>4</th>\n",
       "      <td>False</td>\n",
       "      <td>3866.85520</td>\n",
       "    </tr>\n",
       "    <tr>\n",
       "      <th>5</th>\n",
       "      <td>False</td>\n",
       "      <td>3756.62160</td>\n",
       "    </tr>\n",
       "    <tr>\n",
       "      <th>...</th>\n",
       "      <td>...</td>\n",
       "      <td>...</td>\n",
       "    </tr>\n",
       "    <tr>\n",
       "      <th>1313</th>\n",
       "      <td>True</td>\n",
       "      <td>36397.57600</td>\n",
       "    </tr>\n",
       "    <tr>\n",
       "      <th>1314</th>\n",
       "      <td>True</td>\n",
       "      <td>18765.87545</td>\n",
       "    </tr>\n",
       "    <tr>\n",
       "      <th>1321</th>\n",
       "      <td>True</td>\n",
       "      <td>28101.33305</td>\n",
       "    </tr>\n",
       "    <tr>\n",
       "      <th>1323</th>\n",
       "      <td>True</td>\n",
       "      <td>43896.37630</td>\n",
       "    </tr>\n",
       "    <tr>\n",
       "      <th>1337</th>\n",
       "      <td>True</td>\n",
       "      <td>29141.36030</td>\n",
       "    </tr>\n",
       "  </tbody>\n",
       "</table>\n",
       "<p>1338 rows × 2 columns</p>\n",
       "</div>"
      ],
      "text/plain": [
       "      yes_smoker      charges\n",
       "1          False   1725.55230\n",
       "2          False   4449.46200\n",
       "3          False  21984.47061\n",
       "4          False   3866.85520\n",
       "5          False   3756.62160\n",
       "...          ...          ...\n",
       "1313        True  36397.57600\n",
       "1314        True  18765.87545\n",
       "1321        True  28101.33305\n",
       "1323        True  43896.37630\n",
       "1337        True  29141.36030\n",
       "\n",
       "[1338 rows x 2 columns]"
      ]
     },
     "execution_count": 10,
     "metadata": {},
     "output_type": "execute_result"
    }
   ],
   "source": [
    "## make a df just for visualization by concat the groups\n",
    "plot_df = pd.concat([non_smoker,smokers])\n",
    "plot_df"
   ]
  },
  {
   "cell_type": "code",
   "execution_count": 11,
   "id": "9185a8e9",
   "metadata": {},
   "outputs": [
    {
     "data": {
      "text/plain": [
       "<Axes: xlabel='yes_smoker', ylabel='charges'>"
      ]
     },
     "execution_count": 11,
     "metadata": {},
     "output_type": "execute_result"
    },
    {
     "data": {
      "image/png": "[encoded data removed]",
      "text/plain": [
       "<Figure size 640x480 with 1 Axes>"
      ]
     },
     "metadata": {},
     "output_type": "display_data"
    }
   ],
   "source": [
    "## visualize the group means\n",
    "sns.barplot(data=plot_df, x='yes_smoker', y='charges')\n",
    "\n",
    "## visualize the group means\n",
    "sns.barplot(data=plot_df, x='yes_smoker', y='charges')"
   ]
  },
  {
   "cell_type": "markdown",
   "id": "356477f6",
   "metadata": {},
   "source": [
    "## Test Assumptions\n",
    "\n",
    "    No significant outliers\n",
    "    Normally\n",
    "    Equal Variance\n",
    "\n"
   ]
  },
  {
   "cell_type": "markdown",
   "id": "84f743c6",
   "metadata": {},
   "source": [
    "### Checking Assumption of No Significant Outliers"
   ]
  },
  {
   "cell_type": "code",
   "execution_count": 12,
   "id": "7695588e",
   "metadata": {},
   "outputs": [
    {
     "data": {
      "text/plain": [
       "1        1725.55230\n",
       "2        4449.46200\n",
       "3       21984.47061\n",
       "4        3866.85520\n",
       "5        3756.62160\n",
       "           ...     \n",
       "1332    11411.68500\n",
       "1333    10600.54830\n",
       "1334     2205.98080\n",
       "1335     1629.83350\n",
       "1336     2007.94500\n",
       "Name: charges, Length: 1064, dtype: float64"
      ]
     },
     "execution_count": 12,
     "metadata": {},
     "output_type": "execute_result"
    }
   ],
   "source": [
    "## Saving JUST the numberic col as final group variables\n",
    "non_smoker_group = non_smoker['charges']\n",
    "smokers_group = smokers['charges']\n",
    "non_smoker_group"
   ]
  },
  {
   "cell_type": "code",
   "execution_count": 13,
   "id": "11e6ea31",
   "metadata": {},
   "outputs": [
    {
     "data": {
      "text/plain": [
       "0"
      ]
     },
     "execution_count": 13,
     "metadata": {},
     "output_type": "execute_result"
    }
   ],
   "source": [
    "## Check smokers group for outliers\n",
    "smokers_outliers = np.abs(stats.zscore(smokers_group)) >3\n",
    "smokers_outliers.sum()"
   ]
  },
  {
   "cell_type": "markdown",
   "id": "a82310ba",
   "metadata": {},
   "source": [
    "- no outliers in smokers group"
   ]
  },
  {
   "cell_type": "code",
   "execution_count": 14,
   "id": "34557cf8",
   "metadata": {},
   "outputs": [
    {
     "data": {
      "text/plain": [
       "24"
      ]
     },
     "execution_count": 14,
     "metadata": {},
     "output_type": "execute_result"
    }
   ],
   "source": [
    "## check non_smoker_group for outliers\n",
    "non_smoker_outlier = np.abs(stats.zscore(non_smoker_group)) > 3\n",
    "non_smoker_outlier.sum()"
   ]
  },
  {
   "cell_type": "code",
   "execution_count": 15,
   "id": "31de024c",
   "metadata": {},
   "outputs": [
    {
     "data": {
      "text/plain": [
       "1        1725.55230\n",
       "2        4449.46200\n",
       "3       21984.47061\n",
       "4        3866.85520\n",
       "5        3756.62160\n",
       "           ...     \n",
       "1332    11411.68500\n",
       "1333    10600.54830\n",
       "1334     2205.98080\n",
       "1335     1629.83350\n",
       "1336     2007.94500\n",
       "Name: charges, Length: 1040, dtype: float64"
      ]
     },
     "execution_count": 15,
     "metadata": {},
     "output_type": "execute_result"
    }
   ],
   "source": [
    "## remove outliers from non_smoker_group\n",
    "non_smoker_group = non_smoker_group.loc[~non_smoker_outlier]\n",
    "non_smoker_group"
   ]
  },
  {
   "cell_type": "markdown",
   "id": "1c35fa00",
   "metadata": {},
   "source": [
    "# Test for Normality"
   ]
  },
  {
   "cell_type": "code",
   "execution_count": 16,
   "id": "c34a0af8",
   "metadata": {},
   "outputs": [
    {
     "data": {
      "text/plain": [
       "5.564930630036463e-14"
      ]
     },
     "execution_count": 16,
     "metadata": {},
     "output_type": "execute_result"
    }
   ],
   "source": [
    "## check smoker group for normality\n",
    "result = stats.normaltest(smokers_group)\n",
    "result.pvalue"
   ]
  },
  {
   "cell_type": "code",
   "execution_count": 17,
   "id": "6a58e02c",
   "metadata": {},
   "outputs": [
    {
     "data": {
      "text/plain": [
       "274"
      ]
     },
     "execution_count": 17,
     "metadata": {},
     "output_type": "execute_result"
    }
   ],
   "source": [
    "## check n for smoker group\n",
    "len(smokers_group)"
   ]
  },
  {
   "cell_type": "code",
   "execution_count": 18,
   "id": "c013d29b",
   "metadata": {},
   "outputs": [
    {
     "data": {
      "text/plain": [
       "2.6945416315543976e-36"
      ]
     },
     "execution_count": 18,
     "metadata": {},
     "output_type": "execute_result"
    }
   ],
   "source": [
    "## check non_smoker_group for normality\n",
    "result = stats.normaltest(non_smoker_group)\n",
    "result.pvalue"
   ]
  },
  {
   "cell_type": "code",
   "execution_count": 19,
   "id": "e7160700",
   "metadata": {},
   "outputs": [
    {
     "data": {
      "text/plain": [
       "1040"
      ]
     },
     "execution_count": 19,
     "metadata": {},
     "output_type": "execute_result"
    }
   ],
   "source": [
    "## Check n for non_smoker_group\n",
    "len(non_smoker_group)"
   ]
  },
  {
   "cell_type": "markdown",
   "id": "e3fc0d2d",
   "metadata": {},
   "source": [
    "- We have large enough groups that we can safely disregard the assumption of normality"
   ]
  },
  {
   "cell_type": "markdown",
   "id": "dff1b87b",
   "metadata": {},
   "source": [
    "# Test Assumptions\n",
    "\n",
    "    There are two categorical variables\n",
    "    The oucomes are independent"
   ]
  },
  {
   "cell_type": "code",
   "execution_count": 20,
   "id": "6aff624b",
   "metadata": {},
   "outputs": [
    {
     "data": {
      "text/html": [
       "<div>\n",
       "<style scoped>\n",
       "    .dataframe tbody tr th:only-of-type {\n",
       "        vertical-align: middle;\n",
       "    }\n",
       "\n",
       "    .dataframe tbody tr th {\n",
       "        vertical-align: top;\n",
       "    }\n",
       "\n",
       "    .dataframe thead th {\n",
       "        text-align: right;\n",
       "    }\n",
       "</style>\n",
       "<table border=\"1\" class=\"dataframe\">\n",
       "  <thead>\n",
       "    <tr style=\"text-align: right;\">\n",
       "      <th>smoker</th>\n",
       "      <th>no</th>\n",
       "      <th>yes</th>\n",
       "    </tr>\n",
       "    <tr>\n",
       "      <th>sex</th>\n",
       "      <th></th>\n",
       "      <th></th>\n",
       "    </tr>\n",
       "  </thead>\n",
       "  <tbody>\n",
       "    <tr>\n",
       "      <th>female</th>\n",
       "      <td>547</td>\n",
       "      <td>115</td>\n",
       "    </tr>\n",
       "    <tr>\n",
       "      <th>male</th>\n",
       "      <td>517</td>\n",
       "      <td>159</td>\n",
       "    </tr>\n",
       "  </tbody>\n",
       "</table>\n",
       "</div>"
      ],
      "text/plain": [
       "smoker   no  yes\n",
       "sex             \n",
       "female  547  115\n",
       "male    517  159"
      ]
     },
     "execution_count": 20,
     "metadata": {},
     "output_type": "execute_result"
    }
   ],
   "source": [
    "# calculate the contingency table with pd.cross-tab\n",
    "table = pd.crosstab(df['sex'], df['smoker'])\n",
    "table"
   ]
  },
  {
   "cell_type": "code",
   "execution_count": 21,
   "id": "a152e83f",
   "metadata": {},
   "outputs": [],
   "source": [
    "# Run the Test and Save the Output\n",
    "result = stats.chi2_contingency(table)\n",
    "chi2, p, deg_free, expected_vals = result"
   ]
  },
  {
   "cell_type": "code",
   "execution_count": 22,
   "id": "9f6b1399",
   "metadata": {},
   "outputs": [
    {
     "name": "stdout",
     "output_type": "stream",
     "text": [
      "0.006548143503580696\n"
     ]
    },
    {
     "data": {
      "text/plain": [
       "True"
      ]
     },
     "execution_count": 22,
     "metadata": {},
     "output_type": "execute_result"
    }
   ],
   "source": [
    "# What was our p-value?\n",
    "print(p)\n",
    "p<.05"
   ]
  },
  {
   "cell_type": "markdown",
   "id": "0ebc6f65",
   "metadata": {},
   "source": [
    "- The p-value is much less than 0.05, so we have a significant result.\n",
    "- Since our p <.05, we reject the null hypothesis that men are not more likely to smoke than women.\n",
    "- This means that we accept the alternative hypothesis and conclude that men are significantly more likely to smoke than women.\n"
   ]
  },
  {
   "cell_type": "markdown",
   "id": "32b8706e",
   "metadata": {},
   "source": [
    "# Q3. Do different regions have different charges, on average?"
   ]
  },
  {
   "cell_type": "markdown",
   "id": "cd424c0a",
   "metadata": {},
   "source": [
    "## State the Hypothesis & Null Hypothesis\n",
    "\n",
    "   - Null Hypothesis: There is no difference in charges between regions.\n",
    "   - Alternative Hypothesis: There is a significant difference in charges between regions.\n",
    "\n"
   ]
  },
  {
   "cell_type": "markdown",
   "id": "2debf41a",
   "metadata": {},
   "source": [
    "## Determine the correct test to perform.\n",
    "\n",
    "- Numerical Data\n",
    "- More than two groups/samples\n",
    "- We want to run an ANOVA test"
   ]
  },
  {
   "cell_type": "code",
   "execution_count": 23,
   "id": "30bc9dee",
   "metadata": {},
   "outputs": [
    {
     "data": {
      "text/plain": [
       "southeast    364\n",
       "southwest    325\n",
       "northwest    325\n",
       "northeast    324\n",
       "Name: region, dtype: int64"
      ]
     },
     "execution_count": 23,
     "metadata": {},
     "output_type": "execute_result"
    }
   ],
   "source": [
    "df['region'].value_counts()"
   ]
  },
  {
   "cell_type": "markdown",
   "id": "e82e9330",
   "metadata": {},
   "source": [
    "#### Visualize and separate data for hypothesis\n",
    "\n",
    "- What column is our target? charges\n",
    "- What column determines our groups? region"
   ]
  },
  {
   "cell_type": "code",
   "execution_count": 24,
   "id": "e3f66213",
   "metadata": {},
   "outputs": [
    {
     "data": {
      "image/png": "[encoded data removed]",
      "text/plain": [
       "<Figure size 640x480 with 1 Axes>"
      ]
     },
     "metadata": {},
     "output_type": "display_data"
    }
   ],
   "source": [
    "ax = sns.barplot(data=df, x='region', y='charges')\n",
    "ax.set_xticklabels(ax.get_xticklabels(), rotation=45, ha='right');"
   ]
  },
  {
   "cell_type": "code",
   "execution_count": 25,
   "id": "d76deb71",
   "metadata": {},
   "outputs": [
    {
     "data": {
      "text/html": [
       "<div>\n",
       "<style scoped>\n",
       "    .dataframe tbody tr th:only-of-type {\n",
       "        vertical-align: middle;\n",
       "    }\n",
       "\n",
       "    .dataframe tbody tr th {\n",
       "        vertical-align: top;\n",
       "    }\n",
       "\n",
       "    .dataframe thead th {\n",
       "        text-align: right;\n",
       "    }\n",
       "</style>\n",
       "<table border=\"1\" class=\"dataframe\">\n",
       "  <thead>\n",
       "    <tr style=\"text-align: right;\">\n",
       "      <th></th>\n",
       "      <th>region</th>\n",
       "      <th>charges</th>\n",
       "    </tr>\n",
       "  </thead>\n",
       "  <tbody>\n",
       "    <tr>\n",
       "      <th>0</th>\n",
       "      <td>southwest</td>\n",
       "      <td>16884.92400</td>\n",
       "    </tr>\n",
       "    <tr>\n",
       "      <th>1</th>\n",
       "      <td>southeast</td>\n",
       "      <td>1725.55230</td>\n",
       "    </tr>\n",
       "    <tr>\n",
       "      <th>2</th>\n",
       "      <td>southeast</td>\n",
       "      <td>4449.46200</td>\n",
       "    </tr>\n",
       "    <tr>\n",
       "      <th>3</th>\n",
       "      <td>northwest</td>\n",
       "      <td>21984.47061</td>\n",
       "    </tr>\n",
       "    <tr>\n",
       "      <th>4</th>\n",
       "      <td>northwest</td>\n",
       "      <td>3866.85520</td>\n",
       "    </tr>\n",
       "    <tr>\n",
       "      <th>...</th>\n",
       "      <td>...</td>\n",
       "      <td>...</td>\n",
       "    </tr>\n",
       "    <tr>\n",
       "      <th>1333</th>\n",
       "      <td>northwest</td>\n",
       "      <td>10600.54830</td>\n",
       "    </tr>\n",
       "    <tr>\n",
       "      <th>1334</th>\n",
       "      <td>northeast</td>\n",
       "      <td>2205.98080</td>\n",
       "    </tr>\n",
       "    <tr>\n",
       "      <th>1335</th>\n",
       "      <td>southeast</td>\n",
       "      <td>1629.83350</td>\n",
       "    </tr>\n",
       "    <tr>\n",
       "      <th>1336</th>\n",
       "      <td>southwest</td>\n",
       "      <td>2007.94500</td>\n",
       "    </tr>\n",
       "    <tr>\n",
       "      <th>1337</th>\n",
       "      <td>northwest</td>\n",
       "      <td>29141.36030</td>\n",
       "    </tr>\n",
       "  </tbody>\n",
       "</table>\n",
       "<p>1338 rows × 2 columns</p>\n",
       "</div>"
      ],
      "text/plain": [
       "         region      charges\n",
       "0     southwest  16884.92400\n",
       "1     southeast   1725.55230\n",
       "2     southeast   4449.46200\n",
       "3     northwest  21984.47061\n",
       "4     northwest   3866.85520\n",
       "...         ...          ...\n",
       "1333  northwest  10600.54830\n",
       "1334  northeast   2205.98080\n",
       "1335  southeast   1629.83350\n",
       "1336  southwest   2007.94500\n",
       "1337  northwest  29141.36030\n",
       "\n",
       "[1338 rows x 2 columns]"
      ]
     },
     "execution_count": 25,
     "metadata": {},
     "output_type": "execute_result"
    }
   ],
   "source": [
    "needed_cols = ['region','charges']\n",
    "df[needed_cols]"
   ]
  },
  {
   "cell_type": "code",
   "execution_count": 26,
   "id": "10d35835",
   "metadata": {},
   "outputs": [
    {
     "data": {
      "text/plain": [
       "dict_keys(['southwest', 'southeast', 'northwest', 'northeast'])"
      ]
     },
     "execution_count": 26,
     "metadata": {},
     "output_type": "execute_result"
    }
   ],
   "source": [
    "## Create a dictionary with each group as key and charges as values\n",
    "groups ={}\n",
    "\n",
    "for sector in df['region'].unique():\n",
    "    temp = df.loc[df['region']== sector, 'charges']\n",
    "    groups[sector] = temp\n",
    "\n",
    "groups.keys()"
   ]
  },
  {
   "cell_type": "markdown",
   "id": "f72e9242",
   "metadata": {},
   "source": [
    "### Testing Assumptions\n",
    "\n",
    "- No significant outliers\n",
    "- Normality\n",
    "- Equal Variance\n",
    "\n"
   ]
  },
  {
   "cell_type": "markdown",
   "id": "36da5d96",
   "metadata": {},
   "source": [
    "### Checking Assumption of No Sig. Outliers"
   ]
  },
  {
   "cell_type": "code",
   "execution_count": 27,
   "id": "70eb83d7",
   "metadata": {},
   "outputs": [
    {
     "name": "stdout",
     "output_type": "stream",
     "text": [
      "There were 8 outliers in the southwest group.\n",
      "There were 2 outliers in the southeast group.\n",
      "There were 7 outliers in the northwest group.\n",
      "There were 4 outliers in the northeast group.\n"
     ]
    }
   ],
   "source": [
    "## Loop through groups dict\n",
    "for sector, data in groups.items():\n",
    "\n",
    "    ## determine if there are any outliers\n",
    "    outliers = np.abs(stats.zscore(data)) > 3\n",
    "    \n",
    "    ## print a statement about how many outliers for which group name\n",
    "    print(f\"There were {outliers.sum()} outliers in the {sector} group.\")\n",
    "\n",
    "    ## Remove the outiers from data and overwrite the sector data in the dict\n",
    "    data = data.loc[~outliers]\n",
    "    groups[sector] = data"
   ]
  },
  {
   "cell_type": "markdown",
   "id": "2d2f0288",
   "metadata": {},
   "source": [
    "## Test for Normality"
   ]
  },
  {
   "cell_type": "code",
   "execution_count": 28,
   "id": "67573d46",
   "metadata": {},
   "outputs": [
    {
     "data": {
      "text/html": [
       "<div>\n",
       "<style scoped>\n",
       "    .dataframe tbody tr th:only-of-type {\n",
       "        vertical-align: middle;\n",
       "    }\n",
       "\n",
       "    .dataframe tbody tr th {\n",
       "        vertical-align: top;\n",
       "    }\n",
       "\n",
       "    .dataframe thead th {\n",
       "        text-align: right;\n",
       "    }\n",
       "</style>\n",
       "<table border=\"1\" class=\"dataframe\">\n",
       "  <thead>\n",
       "    <tr style=\"text-align: right;\">\n",
       "      <th></th>\n",
       "      <th>group</th>\n",
       "      <th>n</th>\n",
       "      <th>pval</th>\n",
       "      <th>sig?</th>\n",
       "    </tr>\n",
       "  </thead>\n",
       "  <tbody>\n",
       "    <tr>\n",
       "      <th>0</th>\n",
       "      <td>southwest</td>\n",
       "      <td>317</td>\n",
       "      <td>7.728611e-22</td>\n",
       "      <td>True</td>\n",
       "    </tr>\n",
       "    <tr>\n",
       "      <th>1</th>\n",
       "      <td>southeast</td>\n",
       "      <td>362</td>\n",
       "      <td>1.936990e-13</td>\n",
       "      <td>True</td>\n",
       "    </tr>\n",
       "    <tr>\n",
       "      <th>2</th>\n",
       "      <td>northwest</td>\n",
       "      <td>318</td>\n",
       "      <td>2.940543e-19</td>\n",
       "      <td>True</td>\n",
       "    </tr>\n",
       "    <tr>\n",
       "      <th>3</th>\n",
       "      <td>northeast</td>\n",
       "      <td>320</td>\n",
       "      <td>3.557877e-17</td>\n",
       "      <td>True</td>\n",
       "    </tr>\n",
       "  </tbody>\n",
       "</table>\n",
       "</div>"
      ],
      "text/plain": [
       "       group    n          pval  sig?\n",
       "0  southwest  317  7.728611e-22  True\n",
       "1  southeast  362  1.936990e-13  True\n",
       "2  northwest  318  2.940543e-19  True\n",
       "3  northeast  320  3.557877e-17  True"
      ]
     },
     "execution_count": 28,
     "metadata": {},
     "output_type": "execute_result"
    }
   ],
   "source": [
    "## Running normal test on each group and confirming there are >20 in each group\n",
    "\n",
    "## Save a list with an inner list of column names\n",
    "norm_results = [['group','n','pval','sig?']]\n",
    "\n",
    "\n",
    "## loop through group dict\n",
    "for sector, data in groups.items():\n",
    "    ## calculate normaltest results\n",
    "    stat, p = stats.normaltest(data)\n",
    "    \n",
    "    ## Append the right info into norm_resutls (as a list)\n",
    "    norm_results.append([sector,len(data), p, p<.05])\n",
    "    \n",
    "    \n",
    "## Make norm_results a dataframe (first row is columns, everything else data)\n",
    "normal_results = pd.DataFrame(norm_results[1:], columns = norm_results[0])\n",
    "normal_results"
   ]
  },
  {
   "cell_type": "markdown",
   "id": "7b28544c",
   "metadata": {},
   "source": [
    "- We failed the assumption of normality, but our groups are large enough that we can safely disregard/ignore the assumption of normality."
   ]
  },
  {
   "cell_type": "markdown",
   "id": "3c8180d5",
   "metadata": {},
   "source": [
    "# Test for Equal Variances"
   ]
  },
  {
   "cell_type": "code",
   "execution_count": 29,
   "id": "015faa42",
   "metadata": {},
   "outputs": [
    {
     "data": {
      "text/plain": [
       "['a', 'b', 'c', 1, 2, 3]"
      ]
     },
     "execution_count": 29,
     "metadata": {},
     "output_type": "execute_result"
    }
   ],
   "source": [
    "## DEMO: using the * operator to unpack lists\n",
    "a_list = ['a','b','c']\n",
    "b_list = [1,2,3]\n",
    "\n",
    "new_list =[*a_list, *b_list]\n",
    "new_list"
   ]
  },
  {
   "cell_type": "code",
   "execution_count": 30,
   "id": "0b081c2c",
   "metadata": {},
   "outputs": [
    {
     "name": "stdout",
     "output_type": "stream",
     "text": [
      "LeveneResult(statistic=9.518349004554441, pvalue=3.2035503711783993e-06)\n"
     ]
    }
   ],
   "source": [
    "## Use Levene's test for equal variance\n",
    "result = stats.levene(*groups.values())\n",
    "print(result)"
   ]
  },
  {
   "cell_type": "code",
   "execution_count": 31,
   "id": "a898e3d7",
   "metadata": {},
   "outputs": [
    {
     "name": "stdout",
     "output_type": "stream",
     "text": [
      "The groups do NOT have equal variance.\n"
     ]
    }
   ],
   "source": [
    "## Use an if-else to help interpret the p-value\n",
    "if result.pvalue < .05:\n",
    "    print(f\"The groups do NOT have equal variance.\")\n",
    "else:\n",
    "    print(f\"The groups DO have equal variance.\")"
   ]
  },
  {
   "cell_type": "markdown",
   "id": "10d941c1",
   "metadata": {},
   "source": [
    "- We met the assumption of normality but did NOT meet the assumption of equal variance.\n",
    "- We wanted to run an ANOVA test but will need to use a Kurshal-Wallis test instead."
   ]
  },
  {
   "cell_type": "markdown",
   "id": "af4b0590",
   "metadata": {},
   "source": [
    "# Final Hypothesis Test"
   ]
  },
  {
   "cell_type": "code",
   "execution_count": 32,
   "id": "fd7c1e64",
   "metadata": {},
   "outputs": [
    {
     "name": "stdout",
     "output_type": "stream",
     "text": [
      "KruskalResult(statistic=6.914045702545643, pvalue=0.07468847911322242)\n"
     ]
    },
    {
     "data": {
      "text/plain": [
       "False"
      ]
     },
     "execution_count": 32,
     "metadata": {},
     "output_type": "execute_result"
    }
   ],
   "source": [
    "## Running Krukal Test for Original Hypothesis\n",
    "result = stats.kruskal(*groups.values())\n",
    "print(result)\n",
    "result.pvalue<.05"
   ]
  },
  {
   "cell_type": "markdown",
   "id": "07d10f9e",
   "metadata": {},
   "source": [
    "### Interpret your p-value and reject or fail to reject your null hypothesis\n",
    "- p-value > 0.05; will fail to reject null hypothesis\n",
    "   - Accept that there is no difference in average charges between regions"
   ]
  },
  {
   "cell_type": "markdown",
   "id": "43b616fc",
   "metadata": {},
   "source": [
    "## Show a supporting visualization that helps display the result"
   ]
  },
  {
   "cell_type": "code",
   "execution_count": 33,
   "id": "28c5860f",
   "metadata": {},
   "outputs": [
    {
     "data": {
      "image/png": "[encoded data removed]",
      "text/plain": [
       "<Figure size 640x480 with 1 Axes>"
      ]
     },
     "metadata": {},
     "output_type": "display_data"
    }
   ],
   "source": [
    "ax = sns.barplot(data=df, x='region', y='charges')\n",
    "ax.set_title('Average Charges per Region');"
   ]
  },
  {
   "cell_type": "code",
   "execution_count": null,
   "id": "d4254852",
   "metadata": {},
   "outputs": [],
   "source": []
  }
 ],
 "metadata": {
  "kernelspec": {
   "display_name": "Python (dojo-env)",
   "language": "python",
   "name": "dojo-env"
  },
  "language_info": {
   "codemirror_mode": {
    "name": "ipython",
    "version": 3
   },
   "file_extension": ".py",
   "mimetype": "text/x-python",
   "name": "python",
   "nbconvert_exporter": "python",
   "pygments_lexer": "ipython3",
   "version": "3.9.15"
  },
  "toc": {
   "base_numbering": 1,
   "nav_menu": {},
   "number_sections": false,
   "sideBar": true,
   "skip_h1_title": false,
   "title_cell": "Table of Contents",
   "title_sidebar": "Contents",
   "toc_cell": false,
   "toc_position": {},
   "toc_section_display": true,
   "toc_window_display": false
  }
 },
 "nbformat": 4,
 "nbformat_minor": 5
}
